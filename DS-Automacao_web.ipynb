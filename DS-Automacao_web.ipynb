{
 "cells": [
  {
   "cell_type": "markdown",
   "id": "0898161f",
   "metadata": {},
   "source": [
    "# Automação Web (selenium)\n",
    "\n",
    "- Projeto de automação web que iráautomatizar pesquisa de preços com base em uma planilha de produtos, para esse projeto iremos utilizar a biblioteca Selenium do python.\n",
    "\n",
    "# Entendimento do negócio\n",
    "\n",
    "- Um funcionário trabalha na área de compras de uma empresa e precisa fazer uma comparação de fornecedores para os seus insumos/produtos.\n",
    "\n",
    "- Esse funcionário constantemente busca nos sites desses fornecedores os produtos disponíveis e o preço, afinal, cada um deles pode fazer promoção em momentos diferentes e com valores diferentes.\n",
    "\n",
    "# Objetivo\n",
    "\n",
    "- Seu objetivo: Criar uma pesquisa automática que, irá buscar por produtos com valor abaixo de mercado, então deve-se criar uma planilha com esses produtos, indicando o preço, nome do produto e link para compra.\n",
    "\n",
    "- Em seguida, vai enviar um e-mail com a lista destes produtos para o setor de compra.\n",
    "\n",
    "- OBS: No nosso caso, vamos fazer com produtos comuns em sites como Google Shopping e Buscapé, mas a ideia é a mesma para outros sites. Essa busca também pode ser feita por APIs.\n",
    "\n",
    "\n",
    "### O que temos disponível?\n",
    "\n",
    "- Planilha de Produtos, com os nomes dos produtos, o preço máximo, o preço mínimo (para evitar produtos \"errados\" ou \"baratos de mais para ser verdade\" e os termos que vamos querer evitar nas nossas buscas.\n"
   ]
  },
  {
   "cell_type": "markdown",
   "id": "c602fc6e",
   "metadata": {},
   "source": [
    "# Instalando as bibliotecas necessárias"
   ]
  },
  {
   "cell_type": "code",
   "execution_count": 18,
   "id": "37efc636",
   "metadata": {},
   "outputs": [],
   "source": [
    "#!pip install selenium"
   ]
  },
  {
   "cell_type": "code",
   "execution_count": 19,
   "id": "2afc1041",
   "metadata": {},
   "outputs": [],
   "source": [
    "#!pip install webdriver-manager"
   ]
  },
  {
   "cell_type": "markdown",
   "id": "7253a381",
   "metadata": {},
   "source": [
    "# Importando bibliotecas"
   ]
  },
  {
   "cell_type": "code",
   "execution_count": 20,
   "id": "0409b0f2",
   "metadata": {},
   "outputs": [],
   "source": [
    "from selenium import webdriver\n",
    "from webdriver_manager.chrome import ChromeDriverManager\n",
    "from selenium.webdriver.chrome.service import Service\n",
    "servico = Service(ChromeDriverManager().install())\n",
    "\n",
    "nav = webdriver.Chrome(service=servico)\n",
    "\n",
    "from selenium.webdriver.common.keys import Keys\n",
    "from selenium.webdriver.common.by import By\n",
    "import time\n",
    "import pandas as pd\n",
    "import win32com.client as win32"
   ]
  },
  {
   "cell_type": "markdown",
   "id": "c9130cac",
   "metadata": {},
   "source": [
    "# Coleta de dados (PC)"
   ]
  },
  {
   "cell_type": "code",
   "execution_count": 21,
   "id": "f10e2aad",
   "metadata": {},
   "outputs": [
    {
     "data": {
      "text/html": [
       "<div>\n",
       "<style scoped>\n",
       "    .dataframe tbody tr th:only-of-type {\n",
       "        vertical-align: middle;\n",
       "    }\n",
       "\n",
       "    .dataframe tbody tr th {\n",
       "        vertical-align: top;\n",
       "    }\n",
       "\n",
       "    .dataframe thead th {\n",
       "        text-align: right;\n",
       "    }\n",
       "</style>\n",
       "<table border=\"1\" class=\"dataframe\">\n",
       "  <thead>\n",
       "    <tr style=\"text-align: right;\">\n",
       "      <th></th>\n",
       "      <th>Nome</th>\n",
       "      <th>Termos banidos</th>\n",
       "      <th>Preço mínimo</th>\n",
       "      <th>Preço máximo</th>\n",
       "    </tr>\n",
       "  </thead>\n",
       "  <tbody>\n",
       "    <tr>\n",
       "      <th>0</th>\n",
       "      <td>iphone 12 64 gb</td>\n",
       "      <td>mini watch</td>\n",
       "      <td>3000</td>\n",
       "      <td>3500</td>\n",
       "    </tr>\n",
       "    <tr>\n",
       "      <th>1</th>\n",
       "      <td>rtx 3060</td>\n",
       "      <td>zota galax</td>\n",
       "      <td>4000</td>\n",
       "      <td>4500</td>\n",
       "    </tr>\n",
       "  </tbody>\n",
       "</table>\n",
       "</div>"
      ],
      "text/plain": [
       "              Nome Termos banidos  Preço mínimo  Preço máximo\n",
       "0  iphone 12 64 gb     mini watch          3000          3500\n",
       "1         rtx 3060     zota galax          4000          4500"
      ]
     },
     "metadata": {},
     "output_type": "display_data"
    }
   ],
   "source": [
    "# tabela de filtros desejados\n",
    "tabela_prod = pd.read_excel(\"buscas.xlsx\")\n",
    "display(tabela_prod)"
   ]
  },
  {
   "cell_type": "markdown",
   "id": "39e99366",
   "metadata": {},
   "source": [
    "# Coleta de dados (WEB)"
   ]
  },
  {
   "cell_type": "markdown",
   "id": "79127f0a",
   "metadata": {},
   "source": [
    "#### Funcão de busca no google:"
   ]
  },
  {
   "cell_type": "code",
   "execution_count": 22,
   "id": "0cd7e829",
   "metadata": {},
   "outputs": [],
   "source": [
    "def busca_google_shopping(nav, produto, termos_banidos, preco_min, preco_max):\n",
    "\n",
    "    # abre o navegador\n",
    "    nav.get(\"https://www.google.com.br/\")\n",
    "\n",
    "    # tratar os valores da busca\n",
    "    produto = produto.lower()\n",
    "    termos_banidos = termos_banidos.lower()\n",
    "    preco_max = float(preco_max)\n",
    "    preco_min = float(preco_min)\n",
    "\n",
    "    # criando lista de termos banidos (split remove espacos e cria lista com nomes)\n",
    "    lista_term_banidos = termos_banidos.split(' ')\n",
    "    lista_term_prod = produto.split(' ')\n",
    "\n",
    "\n",
    "    # Vai no input e digita o produto\n",
    "    nav.find_element(By.XPATH, \"/html/body/div[1]/div[3]/form/div[1]/div[1]/div[1]/div/div[2]/input\").send_keys(produto) \n",
    "    # dar um enter\n",
    "    nav.find_element(By.XPATH, \"/html/body/div[1]/div[3]/form/div[1]/div[1]/div[1]/div/div[2]/input\").send_keys(Keys.ENTER) \n",
    "    # clicar em shopping: para shopping vamos pegar todos elementos\n",
    "    # da classe \"hdtb-mitem\" e procurar por \"shopping\" usando \"elementS\"\n",
    "    elementos = nav.find_elements(By.CLASS_NAME, \"hdtb-mitem\")\n",
    "    for item in elementos:\n",
    "        if \"Shopping\" in item.text:\n",
    "            item.click()\n",
    "            break #paramos pois pode ter mais de um item\n",
    "\n",
    "    # pegar preços, nome e link, pra isso vamos buscar dentro de uma\n",
    "    # div que contém todos esses elementos\n",
    "\n",
    "    # elemento div\n",
    "    lista_resultado = nav.find_elements(By.CLASS_NAME, \"sh-dgr__grid-result\")\n",
    "\n",
    "    # lista que será preenchida com resultados\n",
    "    lista_ofertas = []\n",
    "    \n",
    "    # dentro de cada div procura os elementos\n",
    "    for resultado in lista_resultado:\n",
    "        nome = resultado.find_element(By.CLASS_NAME, 'tAxDx').text\n",
    "        # so deixando em minusculo para comparação\n",
    "        nome = nome.lower()\n",
    "\n",
    "        #criar um filtro para os termos banidos\n",
    "        tem_termos_banidos = False\n",
    "        for palavra in lista_term_banidos:\n",
    "            if palavra in nome:\n",
    "                tem_termos_banidos = True  \n",
    "\n",
    "        tem_todos_termos_produto = True\n",
    "        for palavra in lista_term_prod:\n",
    "            if palavra not in nome:\n",
    "                tem_todos_termos_produto = False\n",
    "\n",
    "        if tem_termos_banidos == False and tem_todos_termos_produto == True:\n",
    "            try: #tratando caso preço venha com formato errado (ex: )\n",
    "                # se tem_termos_banidos = false e tem_todos _termos_produto = true continua\n",
    "                # tratar o preço para comparação\n",
    "                preco = resultado.find_element(By.CLASS_NAME, 'a8Pemb').text\n",
    "                preco = preco.replace('R$', '').replace(' ', '').replace('.', '').replace(',', '.')\n",
    "                if preco != \"\":\n",
    "                    preco = float(preco)\n",
    "                  \n",
    "                # verificar se o preço está na faixa:\n",
    "                if preco_min <= preco <= preco_max:      \n",
    "                    # pelo modo abaixo nao deu certo pegar o link, vamos para outra forma\n",
    "                    # link = resultado.find_element(By.CLASS_NAME, 'shntl').get_attribute('href')\n",
    "                    # entao vamos pegar o link pelo PARENT de outro elemento\n",
    "                    elemento_link = resultado.find_element(By.CLASS_NAME,'aULzUe')\n",
    "                    # XPATH \"..\" é o elemento pai que está acima do filho\n",
    "                    elemento_pai = elemento_link.find_element(By.XPATH,'..')\n",
    "                    link = elemento_pai.get_attribute('href')\n",
    "                    #print(nome, preco, link)\n",
    "                    #vams criar uma lista com tuplas dos resultados\n",
    "                    lista_ofertas.append((nome, preco, link))\n",
    "            except: \n",
    "                continue\n",
    "\n",
    " \n",
    "    return lista_ofertas\n",
    "\n",
    "\n"
   ]
  },
  {
   "cell_type": "markdown",
   "id": "f004689a",
   "metadata": {},
   "source": [
    "#### Função de busca no buscapé:"
   ]
  },
  {
   "cell_type": "code",
   "execution_count": 23,
   "id": "8ea22039",
   "metadata": {},
   "outputs": [],
   "source": [
    "def busca_buscape(nav, produto, termos_banidos, preco_min, preco_max):\n",
    "\n",
    "    # tratar os valores da busca\n",
    "    produto = produto.lower()\n",
    "    termos_banidos = termos_banidos.lower()\n",
    "\n",
    "    # criando lista de termos banidos (split remove espacos e cria lista com nomes)\n",
    "    lista_term_banidos = termos_banidos.split(' ')\n",
    "    lista_term_prod = produto.split(' ')\n",
    "\n",
    "    # Abre o site buscapé\n",
    "    nav.get('https://www.buscape.com.br/?og=19220&og=19220&gclid=Cj0KCQiA5NSdBhDfARIsALzs2EAHF8kmSAOhiehyzmAm-5A5huHec6Fm998lSNeRllTOaK3sfrIZV4gaAtBjEALw_wcB')\n",
    "    # Digita o produto na busca\n",
    "    nav.find_element(By.CLASS_NAME,'AutoCompleteStyle_input__HG105').send_keys(produto)\n",
    "    # Enter\n",
    "    nav.find_element(By.CLASS_NAME,'AutoCompleteStyle_input__HG105').send_keys(Keys.ENTER)\n",
    "    # time para carregamento da página\n",
    "    # OBS: muito cuidado com time, pois pegará dados erroneos caso a página\n",
    "    # nao tiver uma espera no carregamento\n",
    "    time.sleep(5)\n",
    "\n",
    "    elementos = nav.find_elements(By.CLASS_NAME,'SearchCard_ProductCard_Inner__7JhKb')\n",
    "\n",
    "    # lista que será preenchida com resultados\n",
    "    lista_ofertas = []\n",
    "    \n",
    "    for elemento in elementos:    \n",
    "        nome = elemento.find_element(By.CLASS_NAME, 'Text_Text__h_AF6').text\n",
    "        nome = nome.lower()\n",
    "        \n",
    "        #criar um filtro para os termos banidos\n",
    "        tem_termos_banidos = False\n",
    "        for palavra in lista_term_banidos:\n",
    "            if palavra in nome:\n",
    "                tem_termos_banidos = True  \n",
    "\n",
    "        tem_todos_termos_produto = True\n",
    "        for palavra in lista_term_prod:\n",
    "            if palavra not in nome:\n",
    "                tem_todos_termos_produto = False\n",
    "\n",
    "        if tem_termos_banidos == False and tem_todos_termos_produto == True:\n",
    "            try:\n",
    "                # se tem_termos_banidos = false e tem_todos _termos_produto = true continua\n",
    "                # tratar o preço para comparação\n",
    "                preco = elemento.find_element(By.CLASS_NAME,'Text_MobileHeadingS__Zxam2').text\n",
    "                preco = preco.replace('R$', '').replace(' ', '').replace('.', '').replace(',', '.')\n",
    "                if preco != \"\":\n",
    "                    preco = float(preco)\n",
    "                    \n",
    "                # verificar se o preço está na faixa:\n",
    "                if preco_min <= preco <= preco_max:      \n",
    "                    link = elemento.get_attribute('href')\n",
    "                    #vams criar uma lista com tuplas dos resultados\n",
    "                    lista_ofertas.append((nome, preco, link)) \n",
    "            except: \n",
    "                continue\n",
    "\n",
    "            \n",
    "    return lista_ofertas"
   ]
  },
  {
   "cell_type": "markdown",
   "id": "9122d4d4",
   "metadata": {},
   "source": [
    "#### Passa os parametros e realiza as buscas:"
   ]
  },
  {
   "cell_type": "code",
   "execution_count": 24,
   "id": "da9b44be",
   "metadata": {},
   "outputs": [
    {
     "data": {
      "text/html": [
       "<div>\n",
       "<style scoped>\n",
       "    .dataframe tbody tr th:only-of-type {\n",
       "        vertical-align: middle;\n",
       "    }\n",
       "\n",
       "    .dataframe tbody tr th {\n",
       "        vertical-align: top;\n",
       "    }\n",
       "\n",
       "    .dataframe thead th {\n",
       "        text-align: right;\n",
       "    }\n",
       "</style>\n",
       "<table border=\"1\" class=\"dataframe\">\n",
       "  <thead>\n",
       "    <tr style=\"text-align: right;\">\n",
       "      <th></th>\n",
       "      <th>nome</th>\n",
       "      <th>preco</th>\n",
       "      <th>link</th>\n",
       "    </tr>\n",
       "  </thead>\n",
       "  <tbody>\n",
       "    <tr>\n",
       "      <th>0</th>\n",
       "      <td>iphone 12 64gb - azul - estou zerado</td>\n",
       "      <td>3059.10</td>\n",
       "      <td>https://www.google.com.br/url?url=https://www....</td>\n",
       "    </tr>\n",
       "    <tr>\n",
       "      <th>1</th>\n",
       "      <td>iphone 12 64 gb branco vitrine 100% apple</td>\n",
       "      <td>3299.00</td>\n",
       "      <td>https://www.google.com.br/url?url=https://prod...</td>\n",
       "    </tr>\n",
       "    <tr>\n",
       "      <th>2</th>\n",
       "      <td>(seminovo) iphone 12 apple preto, 64gb</td>\n",
       "      <td>3144.15</td>\n",
       "      <td>https://www.google.com.br/url?url=https://www....</td>\n",
       "    </tr>\n",
       "  </tbody>\n",
       "</table>\n",
       "</div>"
      ],
      "text/plain": [
       "                                        nome    preco  \\\n",
       "0       iphone 12 64gb - azul - estou zerado  3059.10   \n",
       "1  iphone 12 64 gb branco vitrine 100% apple  3299.00   \n",
       "2     (seminovo) iphone 12 apple preto, 64gb  3144.15   \n",
       "\n",
       "                                                link  \n",
       "0  https://www.google.com.br/url?url=https://www....  \n",
       "1  https://www.google.com.br/url?url=https://prod...  \n",
       "2  https://www.google.com.br/url?url=https://www....  "
      ]
     },
     "metadata": {},
     "output_type": "display_data"
    }
   ],
   "source": [
    "# Abre o navegador\n",
    "#nav = webdriver.Chrome()\n",
    "\n",
    "#criação de tabela\n",
    "tabela_geral = pd.DataFrame()\n",
    "\n",
    "for linha in tabela_prod.index:\n",
    "    \n",
    "    # dados da busca\n",
    "    produto = tabela_prod.loc[linha, 'Nome']\n",
    "    termos_banidos = tabela_prod.loc[linha, 'Termos banidos']\n",
    "    preco_min = tabela_prod.loc[linha, 'Preço mínimo']\n",
    "    preco_max = tabela_prod.loc[linha, 'Preço máximo']\n",
    "    \n",
    "\n",
    "    lista_ofertas_GS = busca_google_shopping(nav, produto, termos_banidos, preco_min, preco_max)\n",
    "    if lista_ofertas_GS: #existe item na tabela?\n",
    "        tabela_ofertas_GS = pd.DataFrame(lista_ofertas_GS, columns=['nome', 'preco', 'link'])\n",
    "        # Se tabela de ofertas tem itens então adiciona a tabela geral\n",
    "        tabela_geral = pd.concat([tabela_geral, tabela_ofertas_GS])\n",
    "\n",
    "        \n",
    "    else:\n",
    "        #se tabela vazia\n",
    "        tabela_ofertas_GS = None\n",
    "        \n",
    "\n",
    "    lista_ofertas_buscape = busca_buscape(nav, produto, termos_banidos, preco_min, preco_max)\n",
    "    if lista_ofertas_buscape:\n",
    "        tabela_ofertas_buscape = pd.DataFrame(lista_ofertas_buscape, columns=['nome', 'preco', 'link'])\n",
    "        tabela_geral = pd.concat([tabela_geral, tabela_ofertas_buscape])\n",
    "    else:\n",
    "        # se tabela vazia\n",
    "        tabela_ofertas_buscape = None\n",
    "    break    \n",
    "        \n",
    "display(tabela_geral)\n",
    "\n",
    "\n"
   ]
  },
  {
   "cell_type": "markdown",
   "id": "7d8f03d2",
   "metadata": {},
   "source": [
    "#### Exportando as bases de dados para excel:"
   ]
  },
  {
   "cell_type": "code",
   "execution_count": 25,
   "id": "8d4081e1",
   "metadata": {},
   "outputs": [],
   "source": [
    "# os index estão fora de ordem, pois pegou de tabelas diferentes, vamos resetar:\n",
    "# drop=True descarta os indices antigos\n",
    "tabela_geral = tabela_geral.reset_index(drop=True)\n",
    "# salvando para excel: index=False não salva coluna index\n",
    "tabela_geral.to_excel(\"Pesquisa geral.xlsx\", index=False)\n",
    "\n"
   ]
  },
  {
   "cell_type": "markdown",
   "id": "9b8d1ad9",
   "metadata": {},
   "source": [
    "#### Enviando email para compras:"
   ]
  },
  {
   "cell_type": "code",
   "execution_count": 26,
   "id": "77ce1f1c",
   "metadata": {},
   "outputs": [],
   "source": [
    "# Verifica se encontrou alguma oferta na tabela\n",
    "# caso contrario não encia o email\n",
    "if len(tabela_geral.index) > 0:\n",
    "\n",
    "    outlook = win32.Dispatch('outlook.application')\n",
    "\n",
    "    mail = outlook.CreateItem(0)\n",
    "    mail.To = 'dev.daniel.amorim@gmail.com'\n",
    "    mail.Subject = 'Pesquisa de preços'\n",
    "    mail.HTMLBody = f'''\n",
    "    Bom dia,\n",
    "\n",
    "    Segue em anexo a pesquisa de preços!\n",
    "    {tabela_geral.to_html(index=False)}\n",
    "\n",
    "    '''\n",
    "\n",
    "    # Anexos (pode ser quantos quiser):\n",
    "    attachment = r\"C:\\Users\\devda\\Documents\\GitHub\\Data Science\\DS-Automacao_web\\Pesquisa geral.xlsx\"\n",
    "    mail.Attachments.Add(attachment)\n",
    "    # Envia o email\n",
    "    mail.Send()\n",
    "    \n",
    "# Ao final encerra o navegador    \n",
    "nav.quit()"
   ]
  },
  {
   "cell_type": "markdown",
   "id": "963f77aa",
   "metadata": {},
   "source": [
    "# FIM!\n",
    "#### Desafio, refazer o mesmo projeto usando APIs do google shopping e do buscapé"
   ]
  }
 ],
 "metadata": {
  "kernelspec": {
   "display_name": "Python 3 (ipykernel)",
   "language": "python",
   "name": "python3"
  },
  "language_info": {
   "codemirror_mode": {
    "name": "ipython",
    "version": 3
   },
   "file_extension": ".py",
   "mimetype": "text/x-python",
   "name": "python",
   "nbconvert_exporter": "python",
   "pygments_lexer": "ipython3",
   "version": "3.9.12"
  }
 },
 "nbformat": 4,
 "nbformat_minor": 5
}
